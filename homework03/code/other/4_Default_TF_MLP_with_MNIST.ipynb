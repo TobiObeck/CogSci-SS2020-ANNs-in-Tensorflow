{
  "nbformat": 4,
  "nbformat_minor": 0,
  "metadata": {
    "kernelspec": {
      "display_name": "Python 3.7.9 64-bit ('iannwtf': conda)",
      "language": "python",
      "name": "python37964bitiannwtfconda29208367aca047b1a3d06c94bee9310b"
    },
    "language_info": {
      "codemirror_mode": {
        "name": "ipython",
        "version": 3
      },
      "file_extension": ".py",
      "mimetype": "text/x-python",
      "name": "python",
      "nbconvert_exporter": "python",
      "pygments_lexer": "ipython3",
      "version": "3.7.9-final"
    },
    "colab": {
      "name": "Tensorflow_Intro.ipynb",
      "provenance": [],
      "collapsed_sections": []
    },
    "accelerator": "GPU"
  },
  "cells": [
    {
      "cell_type": "code",
      "metadata": {
        "id": "bvCeupatKuau"
      },
      "source": [
        "import numpy as np\n",
        "import tensorflow as tf\n",
        "# %tensorflow_version 2.x\n",
        "import matplotlib.pyplot as plt"
      ],
      "execution_count": 3,
      "outputs": []
    },
    {
      "cell_type": "markdown",
      "metadata": {
        "id": "R6_rej9sKua2"
      },
      "source": [
        "### Load the dataset."
      ]
    },
    {
      "cell_type": "code",
      "metadata": {
        "id": "bnWWVWvuKua3"
      },
      "source": [
        "# TensorFlow has some popular datasets already included. \n",
        "# Check out https://www.tensorflow.org/api_docs/python/tf/keras/datasets.\n",
        "# In this homework we will work with the popular MNIST dataset.\n",
        "(train_images, train_labels), (test_images, test_labels) = tf.keras.datasets.mnist.load_data()\n",
        "temp = tf.keras.datasets.mnist.load_data()\n",
        "tempa, tempb = temp\n",
        "print(type(temp))\n",
        "print(type(tempa))\n",
        "print(type(tempb))\n",
        "aa, ab = tempa\n",
        "print(aa, ab)"
      ],
      "execution_count": 8,
      "outputs": [
        {
          "output_type": "stream",
          "name": "stdout",
          "text": [
            "<class 'tuple'>\n<class 'tuple'>\n<class 'tuple'>\n[[[0 0 0 ... 0 0 0]\n  [0 0 0 ... 0 0 0]\n  [0 0 0 ... 0 0 0]\n  ...\n  [0 0 0 ... 0 0 0]\n  [0 0 0 ... 0 0 0]\n  [0 0 0 ... 0 0 0]]\n\n [[0 0 0 ... 0 0 0]\n  [0 0 0 ... 0 0 0]\n  [0 0 0 ... 0 0 0]\n  ...\n  [0 0 0 ... 0 0 0]\n  [0 0 0 ... 0 0 0]\n  [0 0 0 ... 0 0 0]]\n\n [[0 0 0 ... 0 0 0]\n  [0 0 0 ... 0 0 0]\n  [0 0 0 ... 0 0 0]\n  ...\n  [0 0 0 ... 0 0 0]\n  [0 0 0 ... 0 0 0]\n  [0 0 0 ... 0 0 0]]\n\n ...\n\n [[0 0 0 ... 0 0 0]\n  [0 0 0 ... 0 0 0]\n  [0 0 0 ... 0 0 0]\n  ...\n  [0 0 0 ... 0 0 0]\n  [0 0 0 ... 0 0 0]\n  [0 0 0 ... 0 0 0]]\n\n [[0 0 0 ... 0 0 0]\n  [0 0 0 ... 0 0 0]\n  [0 0 0 ... 0 0 0]\n  ...\n  [0 0 0 ... 0 0 0]\n  [0 0 0 ... 0 0 0]\n  [0 0 0 ... 0 0 0]]\n\n [[0 0 0 ... 0 0 0]\n  [0 0 0 ... 0 0 0]\n  [0 0 0 ... 0 0 0]\n  ...\n  [0 0 0 ... 0 0 0]\n  [0 0 0 ... 0 0 0]\n  [0 0 0 ... 0 0 0]]] [5 0 4 ... 5 6 8]\n"
          ]
        }
      ]
    },
    {
      "cell_type": "markdown",
      "metadata": {
        "id": "TMyHOk95Kua7"
      },
      "source": [
        "### Investigate the dataset."
      ]
    },
    {
      "cell_type": "code",
      "metadata": {
        "id": "X00Bz5BFKua-",
        "outputId": "974066f6-e9b5-46e7-d19b-959be87b4a5a",
        "colab": {
          "base_uri": "https://localhost:8080/"
        }
      },
      "source": [
        "# You should make use of the following functions and properties.\n",
        "# You can access the shape of an array 'arr' with 'arr.shape'.\n",
        "# You can use 'np.max', 'np.min' to access the maximum or minimum of an array.\n",
        "print(train_images.shape)\n",
        "print(train_labels.shape, \"\\n\")\n",
        "\n",
        "print(test_images.shape)\n",
        "print(test_labels.shape, \"\\n\")\n",
        "\n",
        "print(np.max(train_images[0]))\n",
        "print(np.min(train_images[0]), \"\\n\")\n",
        "\n",
        "print(type(train_images))"
      ],
      "execution_count": 123,
      "outputs": [
        {
          "output_type": "stream",
          "name": "stdout",
          "text": [
            "(60000, 28, 28)\n(60000,) \n\n(10000, 28, 28)\n(10000,) \n\n255\n0 \n\n<class 'numpy.ndarray'>\n"
          ]
        }
      ]
    },
    {
      "cell_type": "code",
      "execution_count": 124,
      "metadata": {},
      "outputs": [
        {
          "output_type": "stream",
          "name": "stdout",
          "text": [
            "[[[219 253 253 253 253 253 198 182 247 241   0   0]\n  [ 80 156 107 253 253 205  11   0  43 154   0   0]\n  [  0  14   1 154 253  90   0   0   0   0   0   0]\n  [  0   0   0 139 253 190   2   0   0   0   0   0]\n  [  0   0   0  11 190 253  70   0   0   0   0   0]\n  [  0   0   0   0  35 241 225 160 108   1   0   0]\n  [  0   0   0   0   0  81 240 253 253 119  25   0]\n  [  0   0   0   0   0   0  45 186 253 253 150  27]\n  [  0   0   0   0   0   0   0  16  93 252 253 187]\n  [  0   0   0   0   0   0   0   0   0 249 253 249]\n  [  0   0   0   0   0   0  46 130 183 253 253 207]\n  [  0   0   0   0  39 148 229 253 253 253 250 182]\n  [  0   0  24 114 221 253 253 253 253 201  78   0]\n  [ 23  66 213 253 253 253 253 198  81   2   0   0]\n  [219 253 253 253 253 195  80   9   0   0   0   0]\n  [253 253 253 244 133  11   0   0   0   0   0   0]]\n\n [[  0   0   0 163 252 252 252 253 252 252  96 189]\n  [  0   0  51 238 253 253 190 114 253 228  47  79]\n  [  0  48 238 252 252 179  12  75 121  21   0   0]\n  [ 38 165 253 233 208  84   0   0   0   0   0   0]\n  [178 252 240  71  19  28   0   0   0   0   0   0]\n  [252 252  63   0   0   0   0   0   0   0   0   0]\n  [253 190   0   0   0   0   0   0   0   0   0   0]\n  [252 112   0   0   0   0   0   0   0   0   0   0]\n  [230  25   0   0   0   0   0   0   0   0   7 135]\n  [223   0   0   0   0   0   0   0   0   7 131 252]\n  [145   0   0   0   0   0   0   0  48 165 252 173]\n  [225   0   0   0   0   0   0 114 238 253 162   0]\n  [249 146  48  29  85 178 225 253 223 167  56   0]\n  [252 252 229 215 252 252 252 196 130   0   0   0]\n  [252 252 253 252 252 233 145   0   0   0   0   0]\n  [128 252 253 252 141  37   0   0   0   0   0   0]]\n\n [[  0   0   0   0   0   0   0   0   0   0   0  27]\n  [  0   0   0   0   0   0   0   0   0   0   0 183]\n  [  0   0   0   0   0   0   0   0   0   0   0 198]\n  [  0   0   0   0   0   0   0   0   0   0  23 231]\n  [  0   0   0   0   0   0   0   0   0   0 163 254]\n  [  0   0   0   0   0   0   0  14  86 178 248 254]\n  [  0  47  49 116 144 150 241 243 234 179 241 252]\n  [207 253 254 250 240 198 143  91  28   5 233 250]\n  [177 177  98  56   0   0   0   0   0 102 254 220]\n  [  0   0   0   0   0   0   0   0   0 169 254 137]\n  [  0   0   0   0   0   0   0   0   0 169 254  57]\n  [  0   0   0   0   0   0   0   0   0 169 254  57]\n  [  0   0   0   0   0   0   0   0   0 169 255  94]\n  [  0   0   0   0   0   0   0   0   0 169 254  96]\n  [  0   0   0   0   0   0   0   0   0 169 254 153]\n  [  0   0   0   0   0   0   0   0   0 169 255 153]]\n\n [[  0   0   0   0   0   0   0   0  68 236 251 211]\n  [  0   0   0   0   0   0   0  60 228 251 251  94]\n  [  0   0   0   0   0   0   0 155 253 253 189   0]\n  [  0   0   0   0   0   0  20 253 251 235  66   0]\n  [  0   0   0   0   0  32 205 253 251 126   0   0]\n  [  0   0   0   0   0 104 251 253 184  15   0   0]\n  [  0   0   0   0  80 240 251 193  23   0   0   0]\n  [  0   0   0  32 253 253 253 159   0   0   0   0]\n  [  0   0   0 151 251 251 251  39   0   0   0   0]\n  [  0   0  48 221 251 251 172   0   0   0   0   0]\n  [  0   0 234 251 251 196  12   0   0   0   0   0]\n  [  0   0 253 251 251  89   0   0   0   0   0   0]\n  [  0 159 255 253 253  31   0   0   0   0   0   0]\n  [ 48 228 253 247 140   8   0   0   0   0   0   0]\n  [ 64 251 253 220   0   0   0   0   0   0   0   0]\n  [ 64 251 253 220   0   0   0   0   0   0   0   0]]\n\n [[  0   0   0  87 232 252 253 189 210 252 252 253]\n  [  0   4  57 242 252 190  65   5  12 182 252 253]\n  [  0  96 252 252 183  14   0   0  92 252 252 225]\n  [132 253 252 146  14   0   0   0 215 252 252  79]\n  [253 247 176   9   0   0   8  78 245 253 129   0]\n  [252 176   0   0   0  36 201 252 252 169  11   0]\n  [252  30  22 119 197 241 253 252 251  77   0   0]\n  [252 253 252 252 252 226 227 252 231   0   0   0]\n  [235 253 217 138  42  24 192 252 143   0   0   0]\n  [  0   0   0   0   0  62 255 253 109   0   0   0]\n  [  0   0   0   0   0  71 253 252  21   0   0   0]\n  [  0   0   0   0   0   0 253 252  21   0   0   0]\n  [  0   0   0   0   0  71 253 252  21   0   0   0]\n  [  0   0   0   0   0 106 253 252  21   0   0   0]\n  [  0   0   0   0   0  45 255 253  21   0   0   0]\n  [  0   0   0   0   0   0 218 252  56   0   0   0]]]\n"
          ]
        }
      ],
      "source": [
        "#print(train_images[0], \"\\n\")\n",
        "\n",
        "# print(train_images[0][5:7][0])\n",
        "# print(train_images[0][5:7][1], \"\\n\")\n",
        "\n",
        "# print(train_images[0][5:7, 8:24])\n",
        "# print(train_images[0][:, 8:24])\n",
        "print(train_images[0:5, 8:24, 8:20])"
      ]
    },
    {
      "cell_type": "code",
      "execution_count": 125,
      "metadata": {},
      "outputs": [
        {
          "output_type": "stream",
          "name": "stdout",
          "text": [
            "[[  0   0   0   0   0   0   0   0   0   0   0   0   0   0   0   0]\n [  0   0   0   0   0   0   0   0   0   0   0   0   0   0   0   0]\n [  0   0   0   0   3  18  18  18 126 136 175  26 166 255 247 127]\n [ 30  36  94 154 170 253 253 253 253 253 225 172 253 242 195  64]\n [238 253 253 253 253 253 253 253 253 251  93  82  82  56  39   0]\n [219 253 253 253 253 253 198 182 247 241   0   0   0   0   0   0]\n [ 80 156 107 253 253 205  11   0  43 154   0   0   0   0   0   0]\n [  0  14   1 154 253  90   0   0   0   0   0   0   0   0   0   0]\n [  0   0   0 139 253 190   2   0   0   0   0   0   0   0   0   0]\n [  0   0   0  11 190 253  70   0   0   0   0   0   0   0   0   0]\n [  0   0   0   0  35 241 225 160 108   1   0   0   0   0   0   0]\n [  0   0   0   0   0  81 240 253 253 119  25   0   0   0   0   0]\n [  0   0   0   0   0   0  45 186 253 253 150  27   0   0   0   0]\n [  0   0   0   0   0   0   0  16  93 252 253 187   0   0   0   0]\n [  0   0   0   0   0   0   0   0   0 249 253 249  64   0   0   0]\n [  0   0   0   0   0   0  46 130 183 253 253 207   2   0   0   0]\n [  0   0   0   0  39 148 229 253 253 253 250 182   0   0   0   0]\n [  0   0  24 114 221 253 253 253 253 201  78   0   0   0   0   0]\n [ 23  66 213 253 253 253 253 198  81   2   0   0   0   0   0   0]\n [219 253 253 253 253 195  80   9   0   0   0   0   0   0   0   0]\n [253 253 253 244 133  11   0   0   0   0   0   0   0   0   0   0]]\n"
          ]
        }
      ],
      "source": [
        "print(train_images[0][3:24, 8:24])"
      ]
    },
    {
      "cell_type": "code",
      "execution_count": 126,
      "metadata": {},
      "outputs": [
        {
          "output_type": "stream",
          "name": "stdout",
          "text": [
            "[[  0   0   0   0   0   0   0   0   0   0   0   0   0   0   0   0]\n [  0   0   0   0   0   0   0  51 159 253 159  50   0   0   0   0]\n [  0   0   0   0   0   0  48 238 252 252 252 237   0   0   0   0]\n [  0   0   0   0   0  54 227 253 252 239 233 252  57   6   0   0]\n [  0   0   0  10  60 224 252 253 252 202  84 252 253 122   0   0]\n [  0   0   0 163 252 252 252 253 252 252  96 189 253 167   0   0]\n [  0   0  51 238 253 253 190 114 253 228  47  79 255 168   0   0]\n [  0  48 238 252 252 179  12  75 121  21   0   0 253 243  50   0]\n [ 38 165 253 233 208  84   0   0   0   0   0   0 253 252 165   0]\n [178 252 240  71  19  28   0   0   0   0   0   0 253 252 195   0]\n [252 252  63   0   0   0   0   0   0   0   0   0 253 252 195   0]\n [253 190   0   0   0   0   0   0   0   0   0   0 255 253 196   0]\n [252 112   0   0   0   0   0   0   0   0   0   0 253 252 148   0]\n [230  25   0   0   0   0   0   0   0   0   7 135 253 186  12   0]\n [223   0   0   0   0   0   0   0   0   7 131 252 225  71   0   0]\n [145   0   0   0   0   0   0   0  48 165 252 173   0   0   0   0]\n [225   0   0   0   0   0   0 114 238 253 162   0   0   0   0   0]\n [249 146  48  29  85 178 225 253 223 167  56   0   0   0   0   0]\n [252 252 229 215 252 252 252 196 130   0   0   0   0   0   0   0]\n [252 252 253 252 252 233 145   0   0   0   0   0   0   0   0   0]\n [128 252 253 252 141  37   0   0   0   0   0   0   0   0   0   0]]\n"
          ]
        }
      ],
      "source": [
        "print(train_images[1][3:24, 8:24])"
      ]
    },
    {
      "cell_type": "markdown",
      "metadata": {
        "id": "IB_CLl0HKua9"
      },
      "source": [
        "**It is always important to understand the format and the count of the data you are dealing with.**  \n",
        "\n",
        "*How many training/test images does this dataset have?*  \n",
        "60000 training images, 10000 test images\n",
        "\n",
        "*Which shape do the images have?*  \n",
        "28 times 28 pixels => later 784 grey-scale \"pixel\" values as input to neural net.\n",
        "\n",
        "*In which range are the pixel values?*  \n",
        "grey-scale from 0 to 255"
      ]
    },
    {
      "cell_type": "markdown",
      "metadata": {
        "id": "uUvHpuoLKubF"
      },
      "source": [
        "### Visualize the dataset."
      ]
    },
    {
      "cell_type": "code",
      "metadata": {
        "id": "5xJP9MysrIPP",
        "outputId": "0432706b-da99-4ea4-f7b8-2e4da74a26e7",
        "colab": {
          "base_uri": "https://localhost:8080/"
        }
      },
      "source": [
        "print(train_labels[:20])"
      ],
      "execution_count": 127,
      "outputs": [
        {
          "output_type": "stream",
          "name": "stdout",
          "text": [
            "[5 0 4 1 9 2 1 3 1 4 3 5 3 6 1 7 2 8 6 9]\n"
          ]
        }
      ]
    },
    {
      "cell_type": "code",
      "metadata": {
        "id": "6voVCNQHKubG",
        "outputId": "f71bbc10-9a32-49f1-d914-e80ee08eb942",
        "colab": {
          "base_uri": "https://localhost:8080/",
          "height": 105
        }
      },
      "source": [
        "# It can also be helpful to have a proper look at specific samples of a dataset to understand what you are dealing with.\n",
        "# Plot 5 samples with their corresponding label.\n",
        "\n",
        "fig, ax = plt.subplots(1,5)\n",
        "for i in range(5):\n",
        "    ax[i].imshow(train_images[i], cmap='gray')\n",
        "    ax[i].set_title(train_labels[i])\n",
        "    ax[i].axis(\"off\")"
      ],
      "execution_count": 128,
      "outputs": [
        {
          "output_type": "display_data",
          "data": {
            "text/plain": "<Figure size 432x288 with 5 Axes>",
            "image/svg+xml": "<?xml version=\"1.0\" encoding=\"utf-8\" standalone=\"no\"?>\r\n<!DOCTYPE svg PUBLIC \"-//W3C//DTD SVG 1.1//EN\"\r\n  \"http://www.w3.org/Graphics/SVG/1.1/DTD/svg11.dtd\">\r\n<!-- Created with matplotlib (https://matplotlib.org/) -->\r\n<svg height=\"87.242263pt\" version=\"1.1\" viewBox=\"0 0 349.2 87.242263\" width=\"349.2pt\" xmlns=\"http://www.w3.org/2000/svg\" xmlns:xlink=\"http://www.w3.org/1999/xlink\">\r\n <metadata>\r\n  <rdf:RDF xmlns:cc=\"http://creativecommons.org/ns#\" xmlns:dc=\"http://purl.org/dc/elements/1.1/\" xmlns:rdf=\"http://www.w3.org/1999/02/22-rdf-syntax-ns#\">\r\n   <cc:Work>\r\n    <dc:type rdf:resource=\"http://purl.org/dc/dcmitype/StillImage\"/>\r\n    <dc:date>2020-11-15T12:50:00.083398</dc:date>\r\n    <dc:format>image/svg+xml</dc:format>\r\n    <dc:creator>\r\n     <cc:Agent>\r\n      <dc:title>Matplotlib v3.3.2, https://matplotlib.org/</dc:title>\r\n     </cc:Agent>\r\n    </dc:creator>\r\n   </cc:Work>\r\n  </rdf:RDF>\r\n </metadata>\r\n <defs>\r\n  <style type=\"text/css\">*{stroke-linecap:butt;stroke-linejoin:round;}</style>\r\n </defs>\r\n <g id=\"figure_1\">\r\n  <g id=\"patch_1\">\r\n   <path d=\"M 0 87.242263 \r\nL 349.2 87.242263 \r\nL 349.2 0 \r\nL 0 0 \r\nz\r\n\" style=\"fill:none;\"/>\r\n  </g>\r\n  <g id=\"axes_1\">\r\n   <g clip-path=\"url(#p208b9c7f51)\">\r\n    <image height=\"58\" id=\"imagedfdeb7c9d7\" transform=\"scale(1 -1)translate(0 -58)\" width=\"58\" x=\"7.2\" xlink:href=\"data:image/png;base64,\r\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\" y=\"-22.042263\"/>\r\n   </g>\r\n   <g id=\"text_1\">\r\n    <!-- 5 -->\r\n    <g transform=\"translate(32.244569 16.318125)scale(0.12 -0.12)\">\r\n     <defs>\r\n      <path d=\"M 10.796875 72.90625 \r\nL 49.515625 72.90625 \r\nL 49.515625 64.59375 \r\nL 19.828125 64.59375 \r\nL 19.828125 46.734375 \r\nQ 21.96875 47.46875 24.109375 47.828125 \r\nQ 26.265625 48.1875 28.421875 48.1875 \r\nQ 40.625 48.1875 47.75 41.5 \r\nQ 54.890625 34.8125 54.890625 23.390625 \r\nQ 54.890625 11.625 47.5625 5.09375 \r\nQ 40.234375 -1.421875 26.90625 -1.421875 \r\nQ 22.3125 -1.421875 17.546875 -0.640625 \r\nQ 12.796875 0.140625 7.71875 1.703125 \r\nL 7.71875 11.625 \r\nQ 12.109375 9.234375 16.796875 8.0625 \r\nQ 21.484375 6.890625 26.703125 6.890625 \r\nQ 35.15625 6.890625 40.078125 11.328125 \r\nQ 45.015625 15.765625 45.015625 23.390625 \r\nQ 45.015625 31 40.078125 35.4375 \r\nQ 35.15625 39.890625 26.703125 39.890625 \r\nQ 22.75 39.890625 18.8125 39.015625 \r\nQ 14.890625 38.140625 10.796875 36.28125 \r\nz\r\n\" id=\"DejaVuSans-53\"/>\r\n     </defs>\r\n     <use xlink:href=\"#DejaVuSans-53\"/>\r\n    </g>\r\n   </g>\r\n  </g>\r\n  <g id=\"axes_2\">\r\n   <g clip-path=\"url(#pf242283604)\">\r\n    <image height=\"58\" id=\"imagecc69d5def8\" transform=\"scale(1 -1)translate(0 -58)\" width=\"58\" x=\"76.468966\" xlink:href=\"data:image/png;base64,\r\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\" y=\"-22.042263\"/>\r\n   </g>\r\n   <g id=\"text_2\">\r\n    <!-- 0 -->\r\n    <g transform=\"translate(101.513534 16.318125)scale(0.12 -0.12)\">\r\n     <defs>\r\n      <path d=\"M 31.78125 66.40625 \r\nQ 24.171875 66.40625 20.328125 58.90625 \r\nQ 16.5 51.421875 16.5 36.375 \r\nQ 16.5 21.390625 20.328125 13.890625 \r\nQ 24.171875 6.390625 31.78125 6.390625 \r\nQ 39.453125 6.390625 43.28125 13.890625 \r\nQ 47.125 21.390625 47.125 36.375 \r\nQ 47.125 51.421875 43.28125 58.90625 \r\nQ 39.453125 66.40625 31.78125 66.40625 \r\nz\r\nM 31.78125 74.21875 \r\nQ 44.046875 74.21875 50.515625 64.515625 \r\nQ 56.984375 54.828125 56.984375 36.375 \r\nQ 56.984375 17.96875 50.515625 8.265625 \r\nQ 44.046875 -1.421875 31.78125 -1.421875 \r\nQ 19.53125 -1.421875 13.0625 8.265625 \r\nQ 6.59375 17.96875 6.59375 36.375 \r\nQ 6.59375 54.828125 13.0625 64.515625 \r\nQ 19.53125 74.21875 31.78125 74.21875 \r\nz\r\n\" id=\"DejaVuSans-48\"/>\r\n     </defs>\r\n     <use xlink:href=\"#DejaVuSans-48\"/>\r\n    </g>\r\n   </g>\r\n  </g>\r\n  <g id=\"axes_3\">\r\n   <g clip-path=\"url(#p3e7a5a4fa0)\">\r\n    <image height=\"58\" id=\"imagea3e20d6cda\" transform=\"scale(1 -1)translate(0 -58)\" width=\"58\" x=\"145.737931\" xlink:href=\"data:image/png;base64,\r\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\" y=\"-22.042263\"/>\r\n   </g>\r\n   <g id=\"text_3\">\r\n    <!-- 4 -->\r\n    <g transform=\"translate(170.7825 16.318125)scale(0.12 -0.12)\">\r\n     <defs>\r\n      <path d=\"M 37.796875 64.3125 \r\nL 12.890625 25.390625 \r\nL 37.796875 25.390625 \r\nz\r\nM 35.203125 72.90625 \r\nL 47.609375 72.90625 \r\nL 47.609375 25.390625 \r\nL 58.015625 25.390625 \r\nL 58.015625 17.1875 \r\nL 47.609375 17.1875 \r\nL 47.609375 0 \r\nL 37.796875 0 \r\nL 37.796875 17.1875 \r\nL 4.890625 17.1875 \r\nL 4.890625 26.703125 \r\nz\r\n\" id=\"DejaVuSans-52\"/>\r\n     </defs>\r\n     <use xlink:href=\"#DejaVuSans-52\"/>\r\n    </g>\r\n   </g>\r\n  </g>\r\n  <g id=\"axes_4\">\r\n   <g clip-path=\"url(#p36a3012090)\">\r\n    <image height=\"58\" id=\"image6bb9038abc\" transform=\"scale(1 -1)translate(0 -58)\" width=\"58\" x=\"215.006897\" xlink:href=\"data:image/png;base64,\r\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\" y=\"-22.042263\"/>\r\n   </g>\r\n   <g id=\"text_4\">\r\n    <!-- 1 -->\r\n    <g transform=\"translate(240.051466 16.318125)scale(0.12 -0.12)\">\r\n     <defs>\r\n      <path d=\"M 12.40625 8.296875 \r\nL 28.515625 8.296875 \r\nL 28.515625 63.921875 \r\nL 10.984375 60.40625 \r\nL 10.984375 69.390625 \r\nL 28.421875 72.90625 \r\nL 38.28125 72.90625 \r\nL 38.28125 8.296875 \r\nL 54.390625 8.296875 \r\nL 54.390625 0 \r\nL 12.40625 0 \r\nz\r\n\" id=\"DejaVuSans-49\"/>\r\n     </defs>\r\n     <use xlink:href=\"#DejaVuSans-49\"/>\r\n    </g>\r\n   </g>\r\n  </g>\r\n  <g id=\"axes_5\">\r\n   <g clip-path=\"url(#p464d9703a2)\">\r\n    <image height=\"58\" id=\"image38aded4529\" transform=\"scale(1 -1)translate(0 -58)\" width=\"58\" x=\"284.275862\" xlink:href=\"data:image/png;base64,\r\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\" y=\"-22.042263\"/>\r\n   </g>\r\n   <g id=\"text_5\">\r\n    <!-- 9 -->\r\n    <g transform=\"translate(309.320431 16.318125)scale(0.12 -0.12)\">\r\n     <defs>\r\n      <path d=\"M 10.984375 1.515625 \r\nL 10.984375 10.5 \r\nQ 14.703125 8.734375 18.5 7.8125 \r\nQ 22.3125 6.890625 25.984375 6.890625 \r\nQ 35.75 6.890625 40.890625 13.453125 \r\nQ 46.046875 20.015625 46.78125 33.40625 \r\nQ 43.953125 29.203125 39.59375 26.953125 \r\nQ 35.25 24.703125 29.984375 24.703125 \r\nQ 19.046875 24.703125 12.671875 31.3125 \r\nQ 6.296875 37.9375 6.296875 49.421875 \r\nQ 6.296875 60.640625 12.9375 67.421875 \r\nQ 19.578125 74.21875 30.609375 74.21875 \r\nQ 43.265625 74.21875 49.921875 64.515625 \r\nQ 56.59375 54.828125 56.59375 36.375 \r\nQ 56.59375 19.140625 48.40625 8.859375 \r\nQ 40.234375 -1.421875 26.421875 -1.421875 \r\nQ 22.703125 -1.421875 18.890625 -0.6875 \r\nQ 15.09375 0.046875 10.984375 1.515625 \r\nz\r\nM 30.609375 32.421875 \r\nQ 37.25 32.421875 41.125 36.953125 \r\nQ 45.015625 41.5 45.015625 49.421875 \r\nQ 45.015625 57.28125 41.125 61.84375 \r\nQ 37.25 66.40625 30.609375 66.40625 \r\nQ 23.96875 66.40625 20.09375 61.84375 \r\nQ 16.21875 57.28125 16.21875 49.421875 \r\nQ 16.21875 41.5 20.09375 36.953125 \r\nQ 23.96875 32.421875 30.609375 32.421875 \r\nz\r\n\" id=\"DejaVuSans-57\"/>\r\n     </defs>\r\n     <use xlink:href=\"#DejaVuSans-57\"/>\r\n    </g>\r\n   </g>\r\n  </g>\r\n </g>\r\n <defs>\r\n  <clipPath id=\"p208b9c7f51\">\r\n   <rect height=\"57.724138\" width=\"57.724138\" x=\"7.2\" y=\"22.318125\"/>\r\n  </clipPath>\r\n  <clipPath id=\"pf242283604\">\r\n   <rect height=\"57.724138\" width=\"57.724138\" x=\"76.468966\" y=\"22.318125\"/>\r\n  </clipPath>\r\n  <clipPath id=\"p3e7a5a4fa0\">\r\n   <rect height=\"57.724138\" width=\"57.724138\" x=\"145.737931\" y=\"22.318125\"/>\r\n  </clipPath>\r\n  <clipPath id=\"p36a3012090\">\r\n   <rect height=\"57.724138\" width=\"57.724138\" x=\"215.006897\" y=\"22.318125\"/>\r\n  </clipPath>\r\n  <clipPath id=\"p464d9703a2\">\r\n   <rect height=\"57.724138\" width=\"57.724138\" x=\"284.275862\" y=\"22.318125\"/>\r\n  </clipPath>\r\n </defs>\r\n</svg>\r\n",
            "image/png": "[encoded data removed]"
          },
          "metadata": {
            "needs_background": "light"
          }
        }
      ]
    },
    {
      "cell_type": "markdown",
      "metadata": {
        "id": "9-X8MfmNKubL"
      },
      "source": [
        "### Build the TensorFlow dataset: Input pipeline"
      ]
    },
    {
      "cell_type": "code",
      "metadata": {
        "id": "sHsz9NfYqzl1"
      },
      "source": [
        "print(train_images.shape)\n",
        "# tf.data.Dataset.from_tensor_slices creates a tf.ds from a tensor. The elements of the ds are slices of the first tensor dimension\n",
        "train_ds_images = tf.data.Dataset.from_tensor_slices(train_images)\n",
        "print(train_ds_images, \"\\n\")\n",
        "\n",
        "# the mapping function maps each  element to the ds to the value defined by the lambda function\n",
        "# reshapes each tensor to vector (two dimensional pixel vals to one dimensional)\n",
        "train_ds_images = train_ds_images.map(lambda img : tf.reshape(img, (-1,)))\n",
        "print(train_ds_images, \"\\n\")\n",
        "\n",
        "train_ds_targets = tf.data.Dataset.from_tensor_slices(train_labels)\n",
        "# labels are onehot encoded\n",
        "train_ds_targets = train_ds_targets.map(lambda t : tf.one_hot(t, 10)) \n",
        "print(type(train_ds_targets))\n",
        "print(train_ds_targets.as_numpy_iterator().next()) # [0. 0. 0. 0. 0. 1. 0. 0. 0. 0.] -> handwritten 5"
      ],
      "execution_count": 136,
      "outputs": [
        {
          "output_type": "stream",
          "name": "stdout",
          "text": [
            "(60000, 28, 28)\n<TensorSliceDataset shapes: (28, 28), types: tf.uint8> \n\n<MapDataset shapes: (784,), types: tf.uint8> \n\n<class 'tensorflow.python.data.ops.dataset_ops.MapDataset'>\n[0. 0. 0. 0. 0. 1. 0. 0. 0. 0.]\n"
          ]
        }
      ]
    },
    {
      "cell_type": "code",
      "execution_count": 134,
      "metadata": {},
      "outputs": [],
      "source": [
        "# zip together input and labels\n",
        "train_ds = tf.data.Dataset.zip((train_ds_images, train_ds_targets))\n",
        "train_ds = train_ds.batch(128)\n",
        "train_ds = train_ds.shuffle(buffer_size=128)"
      ]
    },
    {
      "cell_type": "code",
      "execution_count": 135,
      "metadata": {},
      "outputs": [],
      "source": [
        "# repeat for the test ds\n",
        "test_ds_images = tf.data.Dataset.from_tensor_slices(test_images)\n",
        "test_ds_images = test_ds_images.map(lambda img : tf.reshape(img, (-1,)))\n",
        "\n",
        "test_ds_targets = tf.data.Dataset.from_tensor_slices(test_labels)\n",
        "test_ds_targets = test_ds_targets.map(lambda t : tf.one_hot(t, 10))\n",
        "\n",
        "test_ds = tf.data.Dataset.zip((test_ds_images, test_ds_targets))\n",
        "test_ds = test_ds.batch(128)\n",
        "test_ds = test_ds.shuffle(buffer_size=128)"
      ]
    },
    {
      "cell_type": "markdown",
      "metadata": {
        "id": "xmvHHSSJKubU"
      },
      "source": [
        "### Build the model."
      ]
    },
    {
      "cell_type": "code",
      "metadata": {
        "id": "0AxSFiVmKubV"
      },
      "source": [
        "# We will implement a simple fully connected feed forward neural network like the last time.\n",
        "#\n",
        "# Our network will have the following layers:\n",
        "# Input : 784 units.\n",
        "# Hidden layer 1: 256 units. With sigmoid activation function.\n",
        "# Hidden layer 2: 256 units. With sigmoid activation function.\n",
        "# Output: 10 units. With softmax activation function.\n",
        "# \n",
        "# Instead of implementing our own layer we can directly implement the network using pre-built layers \n",
        "# from TensorFlow.\n",
        "# For that check out 'tf.keras.layers.Dense(units= , activation=)'. It is basically the same layer that we\n",
        "# implemented by hand last time.\n",
        "# For activations functions check out 'tf.keras.activations'.\n",
        "\n",
        "from tensorflow.keras import Model\n",
        "from tensorflow.keras.layers import Layer\n",
        "\n",
        "class Model(Model): \n",
        "    \n",
        "    def __init__(self):\n",
        "        super(Model, self).__init__()\n",
        "        # Define the three layers.\n",
        "        self.hidden_layer_1 = tf.keras.layers.Dense(units=256,\n",
        "                                               activation=tf.keras.activations.sigmoid\n",
        "                                               )\n",
        "        self.hidden_layer_2 = tf.keras.layers.Dense(units=256,\n",
        "                                               activation=tf.keras.activations.sigmoid\n",
        "                                               )\n",
        "        self.output_layer = tf.keras.layers.Dense(units=10,\n",
        "                                               activation=tf.keras.activations.softmax\n",
        "                                               )\n",
        "    def call(self, x):\n",
        "        # Define the forward step.\n",
        "        x = self.hidden_layer_1(x)\n",
        "        x = self.hidden_layer_2(x)\n",
        "        x = self.output_layer(x)\n",
        "        return x"
      ],
      "execution_count": null,
      "outputs": []
    },
    {
      "cell_type": "markdown",
      "metadata": {
        "id": "VkEDZdIMKubZ"
      },
      "source": [
        "### Train the model."
      ]
    },
    {
      "cell_type": "code",
      "metadata": {
        "id": "SVg42aU_xGpK"
      },
      "source": [
        "def train_step(model, input, target, loss_function, optimizer):\n",
        "  # loss_object and optimizer_object are instances of respective tensorflow classes\n",
        "  with tf.GradientTape() as tape:\n",
        "    prediction = model(input)\n",
        "    loss = loss_function(target, prediction)\n",
        "    gradients = tape.gradient(loss, model.trainable_variables)\n",
        "  optimizer.apply_gradients(zip(gradients, model.trainable_variables))\n",
        "  return loss \n",
        "\n",
        "def test(model, test_data, loss_function):\n",
        "  # test over complete test data\n",
        "\n",
        "  test_accuracy_aggregator = []\n",
        "  test_loss_aggregator = []\n",
        "\n",
        "  for (input, target) in test_data:\n",
        "    prediction = model(input)\n",
        "    sample_test_loss = loss_function(target, prediction)\n",
        "    sample_test_accuracy =  np.argmax(target, axis=1) == np.argmax(prediction, axis=1)\n",
        "    sample_test_accuracy = np.mean(sample_test_accuracy)\n",
        "    test_loss_aggregator.append(sample_test_loss.numpy())\n",
        "    test_accuracy_aggregator.append(np.mean(sample_test_accuracy))\n",
        "\n",
        "  test_loss = np.mean(test_loss_aggregator)\n",
        "  test_accuracy = np.mean(test_accuracy_aggregator)\n",
        "\n",
        "  return test_loss, test_accuracy\n",
        "  \n",
        "\n"
      ],
      "execution_count": null,
      "outputs": []
    },
    {
      "cell_type": "code",
      "metadata": {
        "id": "wLUw0EhkKuba",
        "outputId": "2b533a03-a0ad-4e6f-a74f-e526a6ced6de",
        "colab": {
          "base_uri": "https://localhost:8080/"
        }
      },
      "source": [
        "tf.keras.backend.clear_session()\n",
        "\n",
        "### Hyperparameters\n",
        "num_epochs = 10\n",
        "learning_rate = 0.001\n",
        "running_average_factor = 0.95\n",
        "\n",
        "# Initialize the model.\n",
        "model = Model()\n",
        "# Initialize the loss: categorical cross entropy. Check out 'tf.keras.losses'.\n",
        "cross_entropy_loss = tf.keras.losses.CategoricalCrossentropy()\n",
        "# Initialize the optimizer: Adam with default parameters. Check out 'tf.keras.optimizers'\n",
        "optimizer = tf.keras.optimizers.SGD(learning_rate)\n",
        "\n",
        "# Initialize lists for later visualization.\n",
        "train_losses = []\n",
        "\n",
        "test_losses = []\n",
        "test_accuracies = []\n",
        "\n",
        "#testing once before we begin\n",
        "test_loss, test_accuracy = test(model, test_dataset, cross_entropy_loss)\n",
        "test_losses.append(test_loss)\n",
        "test_accuracies.append(test_accuracy)\n",
        "\n",
        "#check how model performs on train data once before we begin\n",
        "train_loss, _ = test(model, train_dataset, cross_entropy_loss)\n",
        "train_losses.append(train_loss)\n",
        "\n",
        "# We train for num_epochs epochs.\n",
        "for epoch in range(num_epochs):\n",
        "    print('Epoch: __ ' + str(epoch))\n",
        "\n",
        "    train_dataset = train_dataset.shuffle(buffer_size=128)\n",
        "    test_dataset = test_dataset.shuffle(buffer_size=128)\n",
        "\n",
        "    #training (and checking in with training)\n",
        "    running_average = 0\n",
        "    for (input,target) in train_dataset:\n",
        "        train_loss = train_step(model, input, target, cross_entropy_loss, optimizer)\n",
        "        running_average = running_average_factor * running_average  + (1 - running_average_factor) * train_loss\n",
        "    train_losses.append(running_average)\n",
        "\n",
        "    #testing\n",
        "    test_loss, test_accuracy = test(model, test_dataset, cross_entropy_loss)\n",
        "    test_losses.append(test_loss)\n",
        "    test_accuracies.append(test_accuracy)\n",
        "\n"
      ],
      "execution_count": null,
      "outputs": []
    },
    {
      "cell_type": "markdown",
      "metadata": {
        "id": "Dc-tahx4Kubd"
      },
      "source": [
        "### Visualize the training progress."
      ]
    },
    {
      "cell_type": "code",
      "metadata": {
        "scrolled": false,
        "id": "_19Jebu2Kube",
        "outputId": "76a9241d-b330-44ee-f794-5e9dd8a2ef25",
        "colab": {
          "base_uri": "https://localhost:8080/",
          "height": 541
        }
      },
      "source": [
        "# Visualize accuracy and loss for training and test data. \n",
        "# One plot training and test loss.\n",
        "# One plot training and test accuracy.\n",
        "plt.figure()\n",
        "line1, = plt.plot(train_losses)\n",
        "line2, = plt.plot(test_losses)\n",
        "plt.xlabel(\"Training steps\")\n",
        "plt.ylabel(\"Loss\")\n",
        "plt.legend((line1,line2),(\"training\",\"test\"))\n",
        "plt.show()\n",
        "\n",
        "plt.figure()\n",
        "line1, = plt.plot(test_accuracies)\n",
        "plt.xlabel(\"Training steps\")\n",
        "plt.ylabel(\"Accuracy\")\n",
        "plt.show()\n"
      ],
      "execution_count": null,
      "outputs": []
    },
    {
      "cell_type": "markdown",
      "metadata": {
        "id": "Oc0px5ZJhD33"
      },
      "source": [
        "## Saving Model\n",
        "Now that we have seen that our model performs pretty well, we might want to save all the parameters that it has learnt now and use it again later. For subclassed models you will need to use the function **save_weights()** and store it in a .h5 or .hdf5 format. "
      ]
    },
    {
      "cell_type": "code",
      "metadata": {
        "id": "lCfeKMu6y2xs"
      },
      "source": [
        "model.save_weights('mnist_mlp.h5')"
      ],
      "execution_count": null,
      "outputs": []
    },
    {
      "cell_type": "markdown",
      "metadata": {
        "id": "Yo37lt9riSSs"
      },
      "source": [
        "The next time we can load it again. You will first have to create the new model and call it, so it can create the variables, before you can insert weights into them."
      ]
    },
    {
      "cell_type": "code",
      "metadata": {
        "id": "l9ngwfDcicaX"
      },
      "source": [
        "new_model = model.load_weights('mnist_mlp.h5')"
      ],
      "execution_count": null,
      "outputs": []
    }
  ]
}